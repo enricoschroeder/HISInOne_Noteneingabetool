{
 "cells": [
  {
   "cell_type": "markdown",
   "id": "ac7a6fe4975fcfd5",
   "metadata": {
    "collapsed": false,
    "jupyter": {
     "outputs_hidden": false
    }
   },
   "source": [
    "Noteneingabetool für HISinOne\n",
    "=============================\n",
    "Dieses Jupyter-Notebook ist ein interaktives Tool zur Noteneingabe in HISinOne. Es können exportierte HISInOne Exceltabellen geladen werden, woraus eine interaktive Tabelle zum Eingeben der Punkte in einzelnen Aufgaben erzeugt wird. Aus der Summe der Punkte können Noten berechnet werden sowie Statistken wie z.B. die Notenverteilung dargstellt werden.\n",
    "\n",
    "Die Noten können dann wieder im HISinOne Format exportiert werden und in HISinOne hochgeladen werden."
   ]
  },
  {
   "cell_type": "markdown",
   "id": "20f2cc6dafb41b97",
   "metadata": {
    "collapsed": false,
    "jupyter": {
     "outputs_hidden": false
    }
   },
   "source": [
    "---\n",
    "Konfiguration:\n",
    "--------------"
   ]
  },
  {
   "cell_type": "code",
   "id": "ba6e0daf82d96f2c",
   "metadata": {
    "collapsed": false,
    "jupyter": {
     "outputs_hidden": false
    }
   },
   "source": [
    "# Die zu importierende HISInOne-Tabelle (über die Funktion Excel-Export der Noteneingabe in HISInOne erzeugt)\n",
    "table_name = '5160-RocketScience-WiSe_2023.xlsx' \n",
    "# Namen der Aufgaben, für die Punkte eintragen werden sollen\n",
    "questions = ['1', '2', '3', '4', '5', '6', '7', '8', '9', '10', '11', '12']\n",
    "# Parameter für Noteberechnung\n",
    "max_points = 65     # Maximale Punktzahl\n",
    "grade_1_0 = 0.92    # Prozentuale Grenze für Note 1,0\n",
    "grade_4_0 = 0.4     # Prozentuale Grenze für Note 4,0"
   ],
   "outputs": [],
   "execution_count": null
  },
  {
   "cell_type": "markdown",
   "id": "84d22e0dfa74d2bd",
   "metadata": {
    "collapsed": false,
    "jupyter": {
     "outputs_hidden": false
    }
   },
   "source": [
    "---\n",
    "Namensimport\n",
    "------------"
   ]
  },
  {
   "cell_type": "code",
   "id": "initial_id",
   "metadata": {},
   "source": [
    "import pandas as pd\n",
    "import numpy as np\n",
    "\n",
    "st = pd.read_excel(table_name, header=None)\n",
    "\n",
    "# Finde Indizes der Zeilen mit den Werten \"startHISsheet\" und \"endHISsheet\"\n",
    "def find_row_with_value(df, value):\n",
    "    mask = st.iloc[:, 0] == value\n",
    "    if not mask.any():\n",
    "        raise ValueError(f'{value} nicht gefunden')    \n",
    "    return mask.idxmax()\n",
    "\n",
    "start_idx = find_row_with_value(st, 'startHISsheet')\n",
    "end_idx = find_row_with_value(st, 'endHISsheet')\n",
    "#print(start_idx,end_idx)\n",
    "# Lade Daten im korrekten Bereich\n",
    "st = pd.read_excel(table_name,\n",
    "                   header=start_idx+1,\n",
    "                   nrows=end_idx-start_idx-2,\n",
    "                   index_col='Matrikelnummer',\n",
    "                   dtype={'Leistung': str})\n",
    "\n",
    "print('Folgende Tabelle wurde importiert:')\n",
    "st"
   ],
   "outputs": [],
   "execution_count": null
  },
  {
   "cell_type": "markdown",
   "id": "a2f660e7970a8ab7",
   "metadata": {
    "collapsed": false,
    "jupyter": {
     "outputs_hidden": false
    }
   },
   "source": [
    "---\n",
    "Punkteeingabe\n",
    "-------------"
   ]
  },
  {
   "cell_type": "code",
   "id": "31fbc630-aa12-4a56-8f82-653607bcd74d",
   "metadata": {},
   "source": [
    "# from pathlib import Path\n",
    "import panel as pn\n",
    "pn.extension('tabulator')\n",
    "pn.widgets.Tabulator.theme = 'modern'\n",
    "from bokeh.models.widgets.tables import NumberFormatter\n",
    "\n",
    "# Erzeuge Tabelle zur Punkteeingabe\n",
    "select_columns = st[['Nachname', 'Vorname']]\n",
    "new_col = pd.Series([np.nan] * len(st), name='1', index=st.index)\n",
    "st_points = pd.concat([select_columns, new_col], axis=1)\n",
    "add_columns = [pd.Series([np.nan] * len(st), name=q, index=st.index) for q in questions]\n",
    "st_points = pd.concat([select_columns] + add_columns, axis=1)\n",
    "\n",
    "# Speichere Tabelle zur Punkteeingabe bzw. lade sie, falls sie bereits existiert\n",
    "storage_path = Path() / Path(table_name + '_editable_df.pkl')\n",
    "\n",
    "# ACHTUNG: Folgende Zeile auskommentieren zum Zurücksetzen der Änderungen! Dies ist irreversibel!\n",
    "#storage_path.unlink()\n",
    "\n",
    "if storage_path.exists():\n",
    "    print(f'Stelle Änderungen aus {storage_path} wieder her.')\n",
    "    df = pd.read_pickle(storage_path)\n",
    "else:\n",
    "    print(f'Keine Änderungen gefunden, werde zukünftige Änderungen nach {storage_path} speichern.')\n",
    "    df = st_points\n",
    "\n",
    "\n",
    "bokeh_formatters = {\n",
    "    'Matrikelnummer': NumberFormatter(format='0')\n",
    "}\n",
    "\n",
    "header_filters = {\n",
    "    'Matrikelnummer': {'type': 'input', 'placeholder': 'Filter'},\n",
    "    'Nachname': {'type': 'input', 'placeholder': 'Filter'}\n",
    "}\n",
    "\n",
    "tabulator_editors = {\n",
    "    'Matrikelnummer': None,\n",
    "    'Nachname': None,\n",
    "    'Vorname': None,\n",
    "}\n",
    "\n",
    "df_widget = pn.widgets.Tabulator(df,\n",
    "                                 layout='fit_data',\n",
    "                                 height=500,\n",
    "                                 width=1000,\n",
    "                                 formatters=bokeh_formatters,\n",
    "                                 frozen_columns=['Matrikelnummer', 'Nachname'],\n",
    "                                 header_filters=header_filters,\n",
    "                                 editors=tabulator_editors)\n",
    "\n",
    "df_widget.on_edit(lambda e: df.to_pickle(storage_path))\n",
    "\n",
    "display(df_widget)\n"
   ],
   "outputs": [],
   "execution_count": null
  },
  {
   "cell_type": "markdown",
   "id": "4c8de317b9265803",
   "metadata": {},
   "source": [
    "---\n",
    "Notenschlüssel und Notenberechnung\n",
    "-------------\n"
   ]
  },
  {
   "cell_type": "code",
   "id": "199c555e7b7f479e",
   "metadata": {},
   "source": [
    "# Notenschlüssel\n",
    "import numpy as np\n",
    "\n",
    "grades = ['1,0', '1,3', '1,7', '2,0', '2,3', '2,7', '3,0', '3,3', '3,7', '4,0', '5,0']\n",
    "\n",
    "grade_interval = (grade_1_0 - grade_4_0) / 9\n",
    "\n",
    "grade_intervals = [grade_1_0 - i * grade_interval for i in range(10)]\n",
    "grade_intervals.append(0)\n",
    "points = np.array([i * max_points for i in grade_intervals])\n",
    "\n",
    "score_table = pd.DataFrame({'Note': grades, 'Prozent': grade_intervals, 'Untergrenze': points})\n",
    "\n",
    "print(f'Maximalpunktzahl: {max_points}')\n",
    "print(f'1.0-Grenze (%): {grade_1_0}')\n",
    "print(f'4.0-Grenze (%): {grade_4_0}')\n",
    "print('-----')\n",
    "print('Notentabelle:')\n",
    "score_table"
   ],
   "outputs": [],
   "execution_count": null
  },
  {
   "cell_type": "code",
   "id": "f7adb451fceebcd9",
   "metadata": {
    "collapsed": false,
    "jupyter": {
     "outputs_hidden": false
    }
   },
   "source": [
    "# Berechne Summe und Note\n",
    "df['Summe'] = df[questions].sum(axis=1, min_count=len(questions))\n",
    "\n",
    "df['Note'] = df['Summe'].apply(lambda x: np.nan if np.isnan(x) else score_table.iloc[np.digitize(x, points)]['Note'])\n",
    "\n",
    "print('Folgende Punktesummen und Noten wurden berechnet:')\n",
    "df"
   ],
   "outputs": [],
   "execution_count": null
  },
  {
   "cell_type": "markdown",
   "id": "293b354365321923",
   "metadata": {
    "collapsed": false,
    "jupyter": {
     "outputs_hidden": false
    }
   },
   "source": [
    "---\n",
    "Notenverteilung\n",
    "---------------"
   ]
  },
  {
   "cell_type": "code",
   "id": "d124b4c274d581c4",
   "metadata": {
    "collapsed": false,
    "jupyter": {
     "outputs_hidden": false
    }
   },
   "source": [
    "pd.options.plotting.backend = \"plotly\"\n",
    "\n",
    "score_hist = pd.DataFrame({'Anzahl': [0] * len(grades)}, index=score_table['Note'])\n",
    "\n",
    "counts = pd.DataFrame(df['Note'].value_counts().rename('Anzahl'))\n",
    "score_hist.update(counts)\n",
    "\n",
    "print('Notenverteilung:')\n",
    "print(score_hist)\n",
    "\n",
    "number_students = len(df)\n",
    "number_participants = len(df[df['Summe'].notna()])\n",
    "passed = 1-score_hist.iloc[-1][\"Anzahl\"]/number_participants\n",
    "print(f'Anzahl Anmeldungen: {number_students}')\n",
    "print(f'Anzahl Teilnehmer: {number_participants}')\n",
    "print(f'Bestanden: {passed*100:.2f} %')\n",
    "print(f'Durchgefallen: {100-passed*100:.2f} %')\n",
    "\n",
    "score_hist.plot(kind='bar')"
   ],
   "outputs": [],
   "execution_count": null
  },
  {
   "cell_type": "markdown",
   "id": "1180a2404e3dce50",
   "metadata": {
    "collapsed": false,
    "jupyter": {
     "outputs_hidden": false
    }
   },
   "source": [
    "---\n",
    "Export\n",
    "---------------"
   ]
  },
  {
   "cell_type": "code",
   "id": "14ac456cb4013282",
   "metadata": {
    "collapsed": false,
    "jupyter": {
     "outputs_hidden": false
    }
   },
   "source": [
    "# Update Noten\n",
    "st['Leistung'] = df['Note'].replace({np.nan: 'NT'})\n",
    "st_out = st.reset_index()\n",
    "\n",
    "# Examplan.id muss erste Spalte sein (es wird nicht auf den Namen geprüft)\n",
    "st_out = st_out.reindex(columns=['Examplan.id'] + [col for col in st_out.columns if col != 'Examplan.id'])\n",
    "\n",
    "# Lese Anfang der originalen Tabelle (for HisInOne Header)\n",
    "export_table = pd.read_excel(table_name, nrows=start_idx+1, header=None)\n",
    "\n",
    "# Konkateniere Header und aktualisierte Tabelle\n",
    "export_table = pd.DataFrame(np.vstack([export_table.values,                                         # HISinOne Header\n",
    "                                       np.array(list(st_out)),                                      # Tabellenheader (Matrikelnummer, Nachname, Vorname, ...)\n",
    "                                       st_out.values,                                               # Daten\n",
    "                                       np.array(['endHISsheet'] + [''] * (len(list(st_out))-1))     # HISinOne Footer\n",
    "                                      ]), columns=export_table.columns)\n",
    "\n",
    "# Exportiere Tabelle\n",
    "export_table.to_excel(table_name + '_Noten.xlsx', sheet_name='First Sheet', header=False, index=False)"
   ],
   "outputs": [],
   "execution_count": null
  },
  {
   "cell_type": "code",
   "id": "1fb85d8b-39a6-4a02-8c8a-02160f4e5195",
   "metadata": {},
   "source": [],
   "outputs": [],
   "execution_count": null
  }
 ],
 "metadata": {
  "kernelspec": {
   "display_name": "Python 3 (ipykernel)",
   "language": "python",
   "name": "python3"
  },
  "language_info": {
   "codemirror_mode": {
    "name": "ipython",
    "version": 3
   },
   "file_extension": ".py",
   "mimetype": "text/x-python",
   "name": "python",
   "nbconvert_exporter": "python",
   "pygments_lexer": "ipython3",
   "version": "3.10.14"
  }
 },
 "nbformat": 4,
 "nbformat_minor": 5
}
