{
 "cells": [
  {
   "cell_type": "markdown",
   "source": [
    "Noteneingabetool für HISinOne\n",
    "=============================\n",
    "Dieses Jupyter-Notebook ist ein interaktives Tool zur Noteneingabe in HISinOne. Es können exportierte HISInOne Exceltabellen geladen werden, woraus eine interaktive Tabelle zum Eingeben der Punkte in einzelnen Aufgaben erzeugt wird. Aus der Summe der Punkte können Noten berechnet werden sowie Statistken wie z.B. die Notenverteilung dargstellt werden.\n",
    "\n",
    "Die Noten können dann wieder im HISinOne Format exportiert werden und in HISinOne hochgeladen werden."
   ],
   "metadata": {
    "collapsed": false
   },
   "id": "ac7a6fe4975fcfd5"
  },
  {
   "cell_type": "markdown",
   "source": [
    "---\n",
    "Konfiguration:\n",
    "--------------"
   ],
   "metadata": {
    "collapsed": false
   },
   "id": "20f2cc6dafb41b97"
  },
  {
   "cell_type": "code",
   "outputs": [],
   "source": [
    "# Die zu importierende HISInOne-Tabelle (über die Funktion Excel-Export der Noteneingabe in HISInOne erzeugt)\n",
    "table_name = '5160-RocketScience-WiSe_2023.xlsx' \n",
    "# Namen der Aufgaben, für die Punkte eintragen werden sollen\n",
    "questions = ['1', '2', '3', '4', '5a', '5b', '6']\n",
    "# Parameter für Noteberechnung\n",
    "max_points = 40     # Maximale Punktzahl\n",
    "grade_1_0 = 0.92    # Prozentuale Grenze für Note 1,0\n",
    "grade_4_0 = 0.4     # Prozentuale Grenze für Note 4,0"
   ],
   "metadata": {
    "collapsed": false,
    "ExecuteTime": {
     "end_time": "2024-02-29T09:50:57.211131Z",
     "start_time": "2024-02-29T09:50:57.156060Z"
    }
   },
   "id": "ba6e0daf82d96f2c",
   "execution_count": 19
  },
  {
   "cell_type": "markdown",
   "source": [
    "---\n",
    "Namensimport\n",
    "------------"
   ],
   "metadata": {
    "collapsed": false
   },
   "id": "84d22e0dfa74d2bd"
  },
  {
   "cell_type": "code",
   "execution_count": 20,
   "id": "initial_id",
   "metadata": {
    "ExecuteTime": {
     "end_time": "2024-02-29T09:50:57.442075Z",
     "start_time": "2024-02-29T09:50:57.202454Z"
    }
   },
   "outputs": [
    {
     "name": "stdout",
     "output_type": "stream",
     "text": [
      "3 11\n",
      "Folgende Tabelle wurde importiert:\n"
     ]
    },
    {
     "data": {
      "text/plain": "                Examplan.id  PrüfungsNr.         Titel   Nachname Vorname  \\\nMatrikelnummer                                                              \n3434343             1414141         5160  Informatik 2    Hendrix    Jimi   \n3535353             1515151         5160  Informatik 2   Lukather   Steve   \n3131313             1111111         5160  Informatik 2      Mayer    John   \n2323232             1313131         5160  Informatik 2       Page   Jimmy   \n3737373             1717171         5160  Informatik 2  Townshend    Pete   \n3939393             1919191         5160  Informatik 2  Van Halen   Eddie   \n\n               Leistung  Versuch      Status  ECTS        Semester  Jahr  \\\nMatrikelnummer                                                             \n3434343             NaN        1  zugelassen   NaN  Wintersemester  2023   \n3535353             NaN        1  zugelassen   NaN  Wintersemester  2023   \n3131313             NaN        3  zugelassen   NaN  Wintersemester  2023   \n2323232             NaN        2  zugelassen   NaN  Wintersemester  2023   \n3737373             NaN        1  zugelassen   NaN  Wintersemester  2023   \n3939393             NaN        1  zugelassen   NaN  Wintersemester  2023   \n\n                Prüfungsperiode  Vermerk  Thema  Beginn  Gepl. Ende  \\\nMatrikelnummer                                                        \n3434343                       1      NaN    NaN     NaN         NaN   \n3535353                       1      NaN    NaN     NaN         NaN   \n3131313                       1      NaN    NaN     NaN         NaN   \n2323232                       1      NaN    NaN     NaN         NaN   \n3737373                       1      NaN    NaN     NaN         NaN   \n3939393                       1      NaN    NaN     NaN         NaN   \n\n                Tatsächl. Ende Prüfungsart Prüfungsform  \\\nMatrikelnummer                                            \n3434343                    NaN     Prüfung  Schriftlich   \n3535353                    NaN     Prüfung  Schriftlich   \n3131313                    NaN     Prüfung  Schriftlich   \n2323232                    NaN     Prüfung  Schriftlich   \n3737373                    NaN     Prüfung  Schriftlich   \n3939393                    NaN     Prüfung  Schriftlich   \n\n                                                      LockVersion  \nMatrikelnummer                                                     \n3434343         ea56ef45-1b42-4a9f-8dc2-e9f3b8e6c9a1=0,109aefb...  \n3535353         1e851fa6-6f69-4fe4-a1a8-510ab8e5c6ea=0,eeecd36...  \n3131313         fd952c3a-c789-4af2-88fd-0dbe8ea0e68b=0,5a639ec...  \n2323232         ee3f3068-dad7-489c-a5e7-f2eccaedacf7=0,92e970b...  \n3737373         1832c736-1d8c-4d49-bdcd-4295fc5bf3b4=0,8f5bf01...  \n3939393         14d1b781-a879-4115-a444-c87b725bbfe2=0,98e734b...  ",
      "text/html": "<div>\n<style scoped>\n    .dataframe tbody tr th:only-of-type {\n        vertical-align: middle;\n    }\n\n    .dataframe tbody tr th {\n        vertical-align: top;\n    }\n\n    .dataframe thead th {\n        text-align: right;\n    }\n</style>\n<table border=\"1\" class=\"dataframe\">\n  <thead>\n    <tr style=\"text-align: right;\">\n      <th></th>\n      <th>Examplan.id</th>\n      <th>PrüfungsNr.</th>\n      <th>Titel</th>\n      <th>Nachname</th>\n      <th>Vorname</th>\n      <th>Leistung</th>\n      <th>Versuch</th>\n      <th>Status</th>\n      <th>ECTS</th>\n      <th>Semester</th>\n      <th>Jahr</th>\n      <th>Prüfungsperiode</th>\n      <th>Vermerk</th>\n      <th>Thema</th>\n      <th>Beginn</th>\n      <th>Gepl. Ende</th>\n      <th>Tatsächl. Ende</th>\n      <th>Prüfungsart</th>\n      <th>Prüfungsform</th>\n      <th>LockVersion</th>\n    </tr>\n    <tr>\n      <th>Matrikelnummer</th>\n      <th></th>\n      <th></th>\n      <th></th>\n      <th></th>\n      <th></th>\n      <th></th>\n      <th></th>\n      <th></th>\n      <th></th>\n      <th></th>\n      <th></th>\n      <th></th>\n      <th></th>\n      <th></th>\n      <th></th>\n      <th></th>\n      <th></th>\n      <th></th>\n      <th></th>\n      <th></th>\n    </tr>\n  </thead>\n  <tbody>\n    <tr>\n      <th>3434343</th>\n      <td>1414141</td>\n      <td>5160</td>\n      <td>Informatik 2</td>\n      <td>Hendrix</td>\n      <td>Jimi</td>\n      <td>NaN</td>\n      <td>1</td>\n      <td>zugelassen</td>\n      <td>NaN</td>\n      <td>Wintersemester</td>\n      <td>2023</td>\n      <td>1</td>\n      <td>NaN</td>\n      <td>NaN</td>\n      <td>NaN</td>\n      <td>NaN</td>\n      <td>NaN</td>\n      <td>Prüfung</td>\n      <td>Schriftlich</td>\n      <td>ea56ef45-1b42-4a9f-8dc2-e9f3b8e6c9a1=0,109aefb...</td>\n    </tr>\n    <tr>\n      <th>3535353</th>\n      <td>1515151</td>\n      <td>5160</td>\n      <td>Informatik 2</td>\n      <td>Lukather</td>\n      <td>Steve</td>\n      <td>NaN</td>\n      <td>1</td>\n      <td>zugelassen</td>\n      <td>NaN</td>\n      <td>Wintersemester</td>\n      <td>2023</td>\n      <td>1</td>\n      <td>NaN</td>\n      <td>NaN</td>\n      <td>NaN</td>\n      <td>NaN</td>\n      <td>NaN</td>\n      <td>Prüfung</td>\n      <td>Schriftlich</td>\n      <td>1e851fa6-6f69-4fe4-a1a8-510ab8e5c6ea=0,eeecd36...</td>\n    </tr>\n    <tr>\n      <th>3131313</th>\n      <td>1111111</td>\n      <td>5160</td>\n      <td>Informatik 2</td>\n      <td>Mayer</td>\n      <td>John</td>\n      <td>NaN</td>\n      <td>3</td>\n      <td>zugelassen</td>\n      <td>NaN</td>\n      <td>Wintersemester</td>\n      <td>2023</td>\n      <td>1</td>\n      <td>NaN</td>\n      <td>NaN</td>\n      <td>NaN</td>\n      <td>NaN</td>\n      <td>NaN</td>\n      <td>Prüfung</td>\n      <td>Schriftlich</td>\n      <td>fd952c3a-c789-4af2-88fd-0dbe8ea0e68b=0,5a639ec...</td>\n    </tr>\n    <tr>\n      <th>2323232</th>\n      <td>1313131</td>\n      <td>5160</td>\n      <td>Informatik 2</td>\n      <td>Page</td>\n      <td>Jimmy</td>\n      <td>NaN</td>\n      <td>2</td>\n      <td>zugelassen</td>\n      <td>NaN</td>\n      <td>Wintersemester</td>\n      <td>2023</td>\n      <td>1</td>\n      <td>NaN</td>\n      <td>NaN</td>\n      <td>NaN</td>\n      <td>NaN</td>\n      <td>NaN</td>\n      <td>Prüfung</td>\n      <td>Schriftlich</td>\n      <td>ee3f3068-dad7-489c-a5e7-f2eccaedacf7=0,92e970b...</td>\n    </tr>\n    <tr>\n      <th>3737373</th>\n      <td>1717171</td>\n      <td>5160</td>\n      <td>Informatik 2</td>\n      <td>Townshend</td>\n      <td>Pete</td>\n      <td>NaN</td>\n      <td>1</td>\n      <td>zugelassen</td>\n      <td>NaN</td>\n      <td>Wintersemester</td>\n      <td>2023</td>\n      <td>1</td>\n      <td>NaN</td>\n      <td>NaN</td>\n      <td>NaN</td>\n      <td>NaN</td>\n      <td>NaN</td>\n      <td>Prüfung</td>\n      <td>Schriftlich</td>\n      <td>1832c736-1d8c-4d49-bdcd-4295fc5bf3b4=0,8f5bf01...</td>\n    </tr>\n    <tr>\n      <th>3939393</th>\n      <td>1919191</td>\n      <td>5160</td>\n      <td>Informatik 2</td>\n      <td>Van Halen</td>\n      <td>Eddie</td>\n      <td>NaN</td>\n      <td>1</td>\n      <td>zugelassen</td>\n      <td>NaN</td>\n      <td>Wintersemester</td>\n      <td>2023</td>\n      <td>1</td>\n      <td>NaN</td>\n      <td>NaN</td>\n      <td>NaN</td>\n      <td>NaN</td>\n      <td>NaN</td>\n      <td>Prüfung</td>\n      <td>Schriftlich</td>\n      <td>14d1b781-a879-4115-a444-c87b725bbfe2=0,98e734b...</td>\n    </tr>\n  </tbody>\n</table>\n</div>"
     },
     "execution_count": 20,
     "metadata": {},
     "output_type": "execute_result"
    }
   ],
   "source": [
    "import pandas as pd\n",
    "import numpy as np\n",
    "\n",
    "st = pd.read_excel(table_name, header=None)\n",
    "\n",
    "# Finde Indizes der Zeilen mit den Werten \"startHISsheet\" und \"endHISsheet\"\n",
    "def find_row_with_value(df, value):\n",
    "    mask = st.iloc[:, 0] == value\n",
    "    if not mask.any():\n",
    "        raise ValueError(f'{value} nicht gefunden')    \n",
    "    return mask.idxmax()\n",
    "\n",
    "start_idx = find_row_with_value(st, 'startHISsheet')\n",
    "end_idx = find_row_with_value(st, 'endHISsheet')\n",
    "#print(start_idx,end_idx)\n",
    "# Lade Daten im korrekten Bereich\n",
    "st = pd.read_excel(table_name,\n",
    "                   header=start_idx+1,\n",
    "                   nrows=end_idx-start_idx-2,\n",
    "                   index_col='Matrikelnummer',\n",
    "                   dtype={'Leistung': str})\n",
    "\n",
    "print('Folgende Tabelle wurde importiert:')\n",
    "st"
   ]
  },
  {
   "cell_type": "markdown",
   "source": [
    "---\n",
    "Punkteeingabe\n",
    "-------------"
   ],
   "metadata": {
    "collapsed": false
   },
   "id": "a2f660e7970a8ab7"
  },
  {
   "cell_type": "code",
   "execution_count": 21,
   "id": "77edb206",
   "metadata": {
    "ExecuteTime": {
     "end_time": "2024-02-29T09:50:57.442671Z",
     "start_time": "2024-02-29T09:50:57.244698Z"
    }
   },
   "outputs": [
    {
     "name": "stdout",
     "output_type": "stream",
     "text": [
      "Keine Änderungen gefunden, werde zukünftige Änderungen nach 5160-RocketScience-WiSe_2023.xlsx_editable_df.pkl speichern.\n"
     ]
    },
    {
     "data": {
      "text/plain": "DataGrid(auto_fit_params={'area': 'all', 'padding': 30, 'numCols': None}, corner_renderer=None, default_render…",
      "application/vnd.jupyter.widget-view+json": {
       "version_major": 2,
       "version_minor": 0,
       "model_id": "3c038de3cbbe4ea6aa7ec8aa5729b94f"
      }
     },
     "execution_count": 21,
     "metadata": {},
     "output_type": "execute_result"
    }
   ],
   "source": [
    "from pathlib import Path\n",
    "from ipydatagrid import DataGrid\n",
    "\n",
    "# Erzeuge Tabelle zur Punkteeingabe\n",
    "select_columns = st[['Nachname', 'Vorname']]\n",
    "new_col = pd.Series([np.nan] * len(st), name='1', index=st.index)\n",
    "st_points = pd.concat([select_columns, new_col], axis=1)\n",
    "add_columns = [pd.Series([np.nan] * len(st), name=q, index=st.index) for q in questions]\n",
    "st_points = pd.concat([select_columns] + add_columns, axis=1)\n",
    "\n",
    "# Speichere Tabelle zur Punkteeingabe bzw. lade sie, falls sie bereits existiert\n",
    "storage_path = Path() / Path(table_name + '_editable_df.pkl')\n",
    "\n",
    "# ACHTUNG: Folgende Zeile auskommentieren zum Zurücksetzen der Änderungen! Dies ist irreversibel!\n",
    "#storage_path.unlink()\n",
    "\n",
    "if storage_path.exists():\n",
    "    print(f'Stelle Änderungen aus {storage_path} wieder her.')\n",
    "    df = pd.read_pickle(storage_path)\n",
    "else:\n",
    "    print(f'Keine Änderungen gefunden, werde zukünftige Änderungen nach {storage_path} speichern.')\n",
    "    df = st_points\n",
    "    \n",
    "datagrid = DataGrid(df, editable=True)\n",
    "datagrid.on_cell_change(lambda cell: datagrid.data.to_pickle(storage_path))\n",
    "\n",
    "datagrid"
   ]
  },
  {
   "cell_type": "code",
   "outputs": [
    {
     "name": "stdout",
     "output_type": "stream",
     "text": [
      "Maximalpunktzahl: 40\n",
      "1.0-Grenze (%): 0.92\n",
      "4.0-Grenze (%): 0.4\n",
      "-----\n",
      "Notentabelle:\n"
     ]
    },
    {
     "data": {
      "text/plain": "   Note   Prozent  Untergrenze\n0   1,0  0.920000    36.800000\n1   1,3  0.862222    34.488889\n2   1,7  0.804444    32.177778\n3   2,0  0.746667    29.866667\n4   2,3  0.688889    27.555556\n5   2,7  0.631111    25.244444\n6   3,0  0.573333    22.933333\n7   3,3  0.515556    20.622222\n8   3,7  0.457778    18.311111\n9   4,0  0.400000    16.000000\n10  5,0  0.000000     0.000000",
      "text/html": "<div>\n<style scoped>\n    .dataframe tbody tr th:only-of-type {\n        vertical-align: middle;\n    }\n\n    .dataframe tbody tr th {\n        vertical-align: top;\n    }\n\n    .dataframe thead th {\n        text-align: right;\n    }\n</style>\n<table border=\"1\" class=\"dataframe\">\n  <thead>\n    <tr style=\"text-align: right;\">\n      <th></th>\n      <th>Note</th>\n      <th>Prozent</th>\n      <th>Untergrenze</th>\n    </tr>\n  </thead>\n  <tbody>\n    <tr>\n      <th>0</th>\n      <td>1,0</td>\n      <td>0.920000</td>\n      <td>36.800000</td>\n    </tr>\n    <tr>\n      <th>1</th>\n      <td>1,3</td>\n      <td>0.862222</td>\n      <td>34.488889</td>\n    </tr>\n    <tr>\n      <th>2</th>\n      <td>1,7</td>\n      <td>0.804444</td>\n      <td>32.177778</td>\n    </tr>\n    <tr>\n      <th>3</th>\n      <td>2,0</td>\n      <td>0.746667</td>\n      <td>29.866667</td>\n    </tr>\n    <tr>\n      <th>4</th>\n      <td>2,3</td>\n      <td>0.688889</td>\n      <td>27.555556</td>\n    </tr>\n    <tr>\n      <th>5</th>\n      <td>2,7</td>\n      <td>0.631111</td>\n      <td>25.244444</td>\n    </tr>\n    <tr>\n      <th>6</th>\n      <td>3,0</td>\n      <td>0.573333</td>\n      <td>22.933333</td>\n    </tr>\n    <tr>\n      <th>7</th>\n      <td>3,3</td>\n      <td>0.515556</td>\n      <td>20.622222</td>\n    </tr>\n    <tr>\n      <th>8</th>\n      <td>3,7</td>\n      <td>0.457778</td>\n      <td>18.311111</td>\n    </tr>\n    <tr>\n      <th>9</th>\n      <td>4,0</td>\n      <td>0.400000</td>\n      <td>16.000000</td>\n    </tr>\n    <tr>\n      <th>10</th>\n      <td>5,0</td>\n      <td>0.000000</td>\n      <td>0.000000</td>\n    </tr>\n  </tbody>\n</table>\n</div>"
     },
     "execution_count": 22,
     "metadata": {},
     "output_type": "execute_result"
    }
   ],
   "source": [
    "import numpy as np\n",
    "\n",
    "grades = ['1,0', '1,3', '1,7', '2,0', '2,3', '2,7', '3,0', '3,3', '3,7', '4,0', '5,0']\n",
    "\n",
    "grade_interval = (grade_1_0 - grade_4_0) / 9\n",
    "\n",
    "grade_intervals = [grade_1_0 - i * grade_interval for i in range(10)]\n",
    "grade_intervals.append(0)\n",
    "points = np.array([i * max_points for i in grade_intervals])\n",
    "\n",
    "score_table = pd.DataFrame({'Note': grades, 'Prozent': grade_intervals, 'Untergrenze': points})\n",
    "\n",
    "print(f'Maximalpunktzahl: {max_points}')\n",
    "print(f'1.0-Grenze (%): {grade_1_0}')\n",
    "print(f'4.0-Grenze (%): {grade_4_0}')\n",
    "print('-----')\n",
    "print('Notentabelle:')\n",
    "score_table"
   ],
   "metadata": {
    "collapsed": false,
    "ExecuteTime": {
     "end_time": "2024-02-29T09:50:57.477340Z",
     "start_time": "2024-02-29T09:50:57.449245Z"
    }
   },
   "id": "605768bfafa3097f",
   "execution_count": 22
  },
  {
   "cell_type": "code",
   "outputs": [
    {
     "name": "stdout",
     "output_type": "stream",
     "text": [
      "Folgende Punktesummen und Noten wurden berechnet:\n"
     ]
    },
    {
     "data": {
      "text/plain": "                 Nachname Vorname   1   2   3   4  5a  5b   6  Summe  Note\nMatrikelnummer                                                            \n3434343           Hendrix    Jimi NaN NaN NaN NaN NaN NaN NaN    NaN   NaN\n3535353          Lukather   Steve NaN NaN NaN NaN NaN NaN NaN    NaN   NaN\n3131313             Mayer    John NaN NaN NaN NaN NaN NaN NaN    NaN   NaN\n2323232              Page   Jimmy NaN NaN NaN NaN NaN NaN NaN    NaN   NaN\n3737373         Townshend    Pete NaN NaN NaN NaN NaN NaN NaN    NaN   NaN\n3939393         Van Halen   Eddie NaN NaN NaN NaN NaN NaN NaN    NaN   NaN",
      "text/html": "<div>\n<style scoped>\n    .dataframe tbody tr th:only-of-type {\n        vertical-align: middle;\n    }\n\n    .dataframe tbody tr th {\n        vertical-align: top;\n    }\n\n    .dataframe thead th {\n        text-align: right;\n    }\n</style>\n<table border=\"1\" class=\"dataframe\">\n  <thead>\n    <tr style=\"text-align: right;\">\n      <th></th>\n      <th>Nachname</th>\n      <th>Vorname</th>\n      <th>1</th>\n      <th>2</th>\n      <th>3</th>\n      <th>4</th>\n      <th>5a</th>\n      <th>5b</th>\n      <th>6</th>\n      <th>Summe</th>\n      <th>Note</th>\n    </tr>\n    <tr>\n      <th>Matrikelnummer</th>\n      <th></th>\n      <th></th>\n      <th></th>\n      <th></th>\n      <th></th>\n      <th></th>\n      <th></th>\n      <th></th>\n      <th></th>\n      <th></th>\n      <th></th>\n    </tr>\n  </thead>\n  <tbody>\n    <tr>\n      <th>3434343</th>\n      <td>Hendrix</td>\n      <td>Jimi</td>\n      <td>NaN</td>\n      <td>NaN</td>\n      <td>NaN</td>\n      <td>NaN</td>\n      <td>NaN</td>\n      <td>NaN</td>\n      <td>NaN</td>\n      <td>NaN</td>\n      <td>NaN</td>\n    </tr>\n    <tr>\n      <th>3535353</th>\n      <td>Lukather</td>\n      <td>Steve</td>\n      <td>NaN</td>\n      <td>NaN</td>\n      <td>NaN</td>\n      <td>NaN</td>\n      <td>NaN</td>\n      <td>NaN</td>\n      <td>NaN</td>\n      <td>NaN</td>\n      <td>NaN</td>\n    </tr>\n    <tr>\n      <th>3131313</th>\n      <td>Mayer</td>\n      <td>John</td>\n      <td>NaN</td>\n      <td>NaN</td>\n      <td>NaN</td>\n      <td>NaN</td>\n      <td>NaN</td>\n      <td>NaN</td>\n      <td>NaN</td>\n      <td>NaN</td>\n      <td>NaN</td>\n    </tr>\n    <tr>\n      <th>2323232</th>\n      <td>Page</td>\n      <td>Jimmy</td>\n      <td>NaN</td>\n      <td>NaN</td>\n      <td>NaN</td>\n      <td>NaN</td>\n      <td>NaN</td>\n      <td>NaN</td>\n      <td>NaN</td>\n      <td>NaN</td>\n      <td>NaN</td>\n    </tr>\n    <tr>\n      <th>3737373</th>\n      <td>Townshend</td>\n      <td>Pete</td>\n      <td>NaN</td>\n      <td>NaN</td>\n      <td>NaN</td>\n      <td>NaN</td>\n      <td>NaN</td>\n      <td>NaN</td>\n      <td>NaN</td>\n      <td>NaN</td>\n      <td>NaN</td>\n    </tr>\n    <tr>\n      <th>3939393</th>\n      <td>Van Halen</td>\n      <td>Eddie</td>\n      <td>NaN</td>\n      <td>NaN</td>\n      <td>NaN</td>\n      <td>NaN</td>\n      <td>NaN</td>\n      <td>NaN</td>\n      <td>NaN</td>\n      <td>NaN</td>\n      <td>NaN</td>\n    </tr>\n  </tbody>\n</table>\n</div>"
     },
     "execution_count": 23,
     "metadata": {},
     "output_type": "execute_result"
    }
   ],
   "source": [
    "# Berechne Summe und Note\n",
    "df = datagrid.data\n",
    "df['Summe'] = df[questions].sum(axis=1, min_count=len(questions))\n",
    "\n",
    "score_table.iloc[index]['Note']\n",
    "df['Note'] = df['Summe'].apply(lambda x: np.nan if np.isnan(x) else score_table.iloc[np.digitize(x, points)]['Note'])\n",
    "\n",
    "print('Folgende Punktesummen und Noten wurden berechnet:')\n",
    "df"
   ],
   "metadata": {
    "collapsed": false,
    "ExecuteTime": {
     "end_time": "2024-02-29T09:50:57.550098Z",
     "start_time": "2024-02-29T09:50:57.477866Z"
    }
   },
   "id": "f7adb451fceebcd9",
   "execution_count": 23
  },
  {
   "cell_type": "markdown",
   "source": [
    "---\n",
    "Notenverteilung\n",
    "---------------"
   ],
   "metadata": {
    "collapsed": false
   },
   "id": "293b354365321923"
  },
  {
   "cell_type": "code",
   "outputs": [
    {
     "name": "stdout",
     "output_type": "stream",
     "text": [
      "Notenverteilung:\n",
      "      Anzahl\n",
      "Note        \n",
      "1,0        0\n",
      "1,3        0\n",
      "1,7        0\n",
      "2,0        0\n",
      "2,3        0\n",
      "2,7        0\n",
      "3,0        0\n",
      "3,3        0\n",
      "3,7        0\n",
      "4,0        0\n",
      "5,0        0\n",
      "Anzahl Anmeldungen: 6\n",
      "Anzahl Teilnehmer: 0\n"
     ]
    },
    {
     "data": {
      "application/vnd.plotly.v1+json": {
       "data": [
        {
         "alignmentgroup": "True",
         "hovertemplate": "variable=Anzahl<br>Note=%{x}<br>value=%{y}<extra></extra>",
         "legendgroup": "Anzahl",
         "marker": {
          "color": "#636efa",
          "pattern": {
           "shape": ""
          }
         },
         "name": "Anzahl",
         "offsetgroup": "Anzahl",
         "orientation": "v",
         "showlegend": true,
         "textposition": "auto",
         "x": [
          "1,0",
          "1,3",
          "1,7",
          "2,0",
          "2,3",
          "2,7",
          "3,0",
          "3,3",
          "3,7",
          "4,0",
          "5,0"
         ],
         "xaxis": "x",
         "y": [
          0,
          0,
          0,
          0,
          0,
          0,
          0,
          0,
          0,
          0,
          0
         ],
         "yaxis": "y",
         "type": "bar"
        }
       ],
       "layout": {
        "template": {
         "data": {
          "histogram2dcontour": [
           {
            "type": "histogram2dcontour",
            "colorbar": {
             "outlinewidth": 0,
             "ticks": ""
            },
            "colorscale": [
             [
              0.0,
              "#0d0887"
             ],
             [
              0.1111111111111111,
              "#46039f"
             ],
             [
              0.2222222222222222,
              "#7201a8"
             ],
             [
              0.3333333333333333,
              "#9c179e"
             ],
             [
              0.4444444444444444,
              "#bd3786"
             ],
             [
              0.5555555555555556,
              "#d8576b"
             ],
             [
              0.6666666666666666,
              "#ed7953"
             ],
             [
              0.7777777777777778,
              "#fb9f3a"
             ],
             [
              0.8888888888888888,
              "#fdca26"
             ],
             [
              1.0,
              "#f0f921"
             ]
            ]
           }
          ],
          "choropleth": [
           {
            "type": "choropleth",
            "colorbar": {
             "outlinewidth": 0,
             "ticks": ""
            }
           }
          ],
          "histogram2d": [
           {
            "type": "histogram2d",
            "colorbar": {
             "outlinewidth": 0,
             "ticks": ""
            },
            "colorscale": [
             [
              0.0,
              "#0d0887"
             ],
             [
              0.1111111111111111,
              "#46039f"
             ],
             [
              0.2222222222222222,
              "#7201a8"
             ],
             [
              0.3333333333333333,
              "#9c179e"
             ],
             [
              0.4444444444444444,
              "#bd3786"
             ],
             [
              0.5555555555555556,
              "#d8576b"
             ],
             [
              0.6666666666666666,
              "#ed7953"
             ],
             [
              0.7777777777777778,
              "#fb9f3a"
             ],
             [
              0.8888888888888888,
              "#fdca26"
             ],
             [
              1.0,
              "#f0f921"
             ]
            ]
           }
          ],
          "heatmap": [
           {
            "type": "heatmap",
            "colorbar": {
             "outlinewidth": 0,
             "ticks": ""
            },
            "colorscale": [
             [
              0.0,
              "#0d0887"
             ],
             [
              0.1111111111111111,
              "#46039f"
             ],
             [
              0.2222222222222222,
              "#7201a8"
             ],
             [
              0.3333333333333333,
              "#9c179e"
             ],
             [
              0.4444444444444444,
              "#bd3786"
             ],
             [
              0.5555555555555556,
              "#d8576b"
             ],
             [
              0.6666666666666666,
              "#ed7953"
             ],
             [
              0.7777777777777778,
              "#fb9f3a"
             ],
             [
              0.8888888888888888,
              "#fdca26"
             ],
             [
              1.0,
              "#f0f921"
             ]
            ]
           }
          ],
          "heatmapgl": [
           {
            "type": "heatmapgl",
            "colorbar": {
             "outlinewidth": 0,
             "ticks": ""
            },
            "colorscale": [
             [
              0.0,
              "#0d0887"
             ],
             [
              0.1111111111111111,
              "#46039f"
             ],
             [
              0.2222222222222222,
              "#7201a8"
             ],
             [
              0.3333333333333333,
              "#9c179e"
             ],
             [
              0.4444444444444444,
              "#bd3786"
             ],
             [
              0.5555555555555556,
              "#d8576b"
             ],
             [
              0.6666666666666666,
              "#ed7953"
             ],
             [
              0.7777777777777778,
              "#fb9f3a"
             ],
             [
              0.8888888888888888,
              "#fdca26"
             ],
             [
              1.0,
              "#f0f921"
             ]
            ]
           }
          ],
          "contourcarpet": [
           {
            "type": "contourcarpet",
            "colorbar": {
             "outlinewidth": 0,
             "ticks": ""
            }
           }
          ],
          "contour": [
           {
            "type": "contour",
            "colorbar": {
             "outlinewidth": 0,
             "ticks": ""
            },
            "colorscale": [
             [
              0.0,
              "#0d0887"
             ],
             [
              0.1111111111111111,
              "#46039f"
             ],
             [
              0.2222222222222222,
              "#7201a8"
             ],
             [
              0.3333333333333333,
              "#9c179e"
             ],
             [
              0.4444444444444444,
              "#bd3786"
             ],
             [
              0.5555555555555556,
              "#d8576b"
             ],
             [
              0.6666666666666666,
              "#ed7953"
             ],
             [
              0.7777777777777778,
              "#fb9f3a"
             ],
             [
              0.8888888888888888,
              "#fdca26"
             ],
             [
              1.0,
              "#f0f921"
             ]
            ]
           }
          ],
          "surface": [
           {
            "type": "surface",
            "colorbar": {
             "outlinewidth": 0,
             "ticks": ""
            },
            "colorscale": [
             [
              0.0,
              "#0d0887"
             ],
             [
              0.1111111111111111,
              "#46039f"
             ],
             [
              0.2222222222222222,
              "#7201a8"
             ],
             [
              0.3333333333333333,
              "#9c179e"
             ],
             [
              0.4444444444444444,
              "#bd3786"
             ],
             [
              0.5555555555555556,
              "#d8576b"
             ],
             [
              0.6666666666666666,
              "#ed7953"
             ],
             [
              0.7777777777777778,
              "#fb9f3a"
             ],
             [
              0.8888888888888888,
              "#fdca26"
             ],
             [
              1.0,
              "#f0f921"
             ]
            ]
           }
          ],
          "mesh3d": [
           {
            "type": "mesh3d",
            "colorbar": {
             "outlinewidth": 0,
             "ticks": ""
            }
           }
          ],
          "scatter": [
           {
            "fillpattern": {
             "fillmode": "overlay",
             "size": 10,
             "solidity": 0.2
            },
            "type": "scatter"
           }
          ],
          "parcoords": [
           {
            "type": "parcoords",
            "line": {
             "colorbar": {
              "outlinewidth": 0,
              "ticks": ""
             }
            }
           }
          ],
          "scatterpolargl": [
           {
            "type": "scatterpolargl",
            "marker": {
             "colorbar": {
              "outlinewidth": 0,
              "ticks": ""
             }
            }
           }
          ],
          "bar": [
           {
            "error_x": {
             "color": "#2a3f5f"
            },
            "error_y": {
             "color": "#2a3f5f"
            },
            "marker": {
             "line": {
              "color": "#E5ECF6",
              "width": 0.5
             },
             "pattern": {
              "fillmode": "overlay",
              "size": 10,
              "solidity": 0.2
             }
            },
            "type": "bar"
           }
          ],
          "scattergeo": [
           {
            "type": "scattergeo",
            "marker": {
             "colorbar": {
              "outlinewidth": 0,
              "ticks": ""
             }
            }
           }
          ],
          "scatterpolar": [
           {
            "type": "scatterpolar",
            "marker": {
             "colorbar": {
              "outlinewidth": 0,
              "ticks": ""
             }
            }
           }
          ],
          "histogram": [
           {
            "marker": {
             "pattern": {
              "fillmode": "overlay",
              "size": 10,
              "solidity": 0.2
             }
            },
            "type": "histogram"
           }
          ],
          "scattergl": [
           {
            "type": "scattergl",
            "marker": {
             "colorbar": {
              "outlinewidth": 0,
              "ticks": ""
             }
            }
           }
          ],
          "scatter3d": [
           {
            "type": "scatter3d",
            "line": {
             "colorbar": {
              "outlinewidth": 0,
              "ticks": ""
             }
            },
            "marker": {
             "colorbar": {
              "outlinewidth": 0,
              "ticks": ""
             }
            }
           }
          ],
          "scattermapbox": [
           {
            "type": "scattermapbox",
            "marker": {
             "colorbar": {
              "outlinewidth": 0,
              "ticks": ""
             }
            }
           }
          ],
          "scatterternary": [
           {
            "type": "scatterternary",
            "marker": {
             "colorbar": {
              "outlinewidth": 0,
              "ticks": ""
             }
            }
           }
          ],
          "scattercarpet": [
           {
            "type": "scattercarpet",
            "marker": {
             "colorbar": {
              "outlinewidth": 0,
              "ticks": ""
             }
            }
           }
          ],
          "carpet": [
           {
            "aaxis": {
             "endlinecolor": "#2a3f5f",
             "gridcolor": "white",
             "linecolor": "white",
             "minorgridcolor": "white",
             "startlinecolor": "#2a3f5f"
            },
            "baxis": {
             "endlinecolor": "#2a3f5f",
             "gridcolor": "white",
             "linecolor": "white",
             "minorgridcolor": "white",
             "startlinecolor": "#2a3f5f"
            },
            "type": "carpet"
           }
          ],
          "table": [
           {
            "cells": {
             "fill": {
              "color": "#EBF0F8"
             },
             "line": {
              "color": "white"
             }
            },
            "header": {
             "fill": {
              "color": "#C8D4E3"
             },
             "line": {
              "color": "white"
             }
            },
            "type": "table"
           }
          ],
          "barpolar": [
           {
            "marker": {
             "line": {
              "color": "#E5ECF6",
              "width": 0.5
             },
             "pattern": {
              "fillmode": "overlay",
              "size": 10,
              "solidity": 0.2
             }
            },
            "type": "barpolar"
           }
          ],
          "pie": [
           {
            "automargin": true,
            "type": "pie"
           }
          ]
         },
         "layout": {
          "autotypenumbers": "strict",
          "colorway": [
           "#636efa",
           "#EF553B",
           "#00cc96",
           "#ab63fa",
           "#FFA15A",
           "#19d3f3",
           "#FF6692",
           "#B6E880",
           "#FF97FF",
           "#FECB52"
          ],
          "font": {
           "color": "#2a3f5f"
          },
          "hovermode": "closest",
          "hoverlabel": {
           "align": "left"
          },
          "paper_bgcolor": "white",
          "plot_bgcolor": "#E5ECF6",
          "polar": {
           "bgcolor": "#E5ECF6",
           "angularaxis": {
            "gridcolor": "white",
            "linecolor": "white",
            "ticks": ""
           },
           "radialaxis": {
            "gridcolor": "white",
            "linecolor": "white",
            "ticks": ""
           }
          },
          "ternary": {
           "bgcolor": "#E5ECF6",
           "aaxis": {
            "gridcolor": "white",
            "linecolor": "white",
            "ticks": ""
           },
           "baxis": {
            "gridcolor": "white",
            "linecolor": "white",
            "ticks": ""
           },
           "caxis": {
            "gridcolor": "white",
            "linecolor": "white",
            "ticks": ""
           }
          },
          "coloraxis": {
           "colorbar": {
            "outlinewidth": 0,
            "ticks": ""
           }
          },
          "colorscale": {
           "sequential": [
            [
             0.0,
             "#0d0887"
            ],
            [
             0.1111111111111111,
             "#46039f"
            ],
            [
             0.2222222222222222,
             "#7201a8"
            ],
            [
             0.3333333333333333,
             "#9c179e"
            ],
            [
             0.4444444444444444,
             "#bd3786"
            ],
            [
             0.5555555555555556,
             "#d8576b"
            ],
            [
             0.6666666666666666,
             "#ed7953"
            ],
            [
             0.7777777777777778,
             "#fb9f3a"
            ],
            [
             0.8888888888888888,
             "#fdca26"
            ],
            [
             1.0,
             "#f0f921"
            ]
           ],
           "sequentialminus": [
            [
             0.0,
             "#0d0887"
            ],
            [
             0.1111111111111111,
             "#46039f"
            ],
            [
             0.2222222222222222,
             "#7201a8"
            ],
            [
             0.3333333333333333,
             "#9c179e"
            ],
            [
             0.4444444444444444,
             "#bd3786"
            ],
            [
             0.5555555555555556,
             "#d8576b"
            ],
            [
             0.6666666666666666,
             "#ed7953"
            ],
            [
             0.7777777777777778,
             "#fb9f3a"
            ],
            [
             0.8888888888888888,
             "#fdca26"
            ],
            [
             1.0,
             "#f0f921"
            ]
           ],
           "diverging": [
            [
             0,
             "#8e0152"
            ],
            [
             0.1,
             "#c51b7d"
            ],
            [
             0.2,
             "#de77ae"
            ],
            [
             0.3,
             "#f1b6da"
            ],
            [
             0.4,
             "#fde0ef"
            ],
            [
             0.5,
             "#f7f7f7"
            ],
            [
             0.6,
             "#e6f5d0"
            ],
            [
             0.7,
             "#b8e186"
            ],
            [
             0.8,
             "#7fbc41"
            ],
            [
             0.9,
             "#4d9221"
            ],
            [
             1,
             "#276419"
            ]
           ]
          },
          "xaxis": {
           "gridcolor": "white",
           "linecolor": "white",
           "ticks": "",
           "title": {
            "standoff": 15
           },
           "zerolinecolor": "white",
           "automargin": true,
           "zerolinewidth": 2
          },
          "yaxis": {
           "gridcolor": "white",
           "linecolor": "white",
           "ticks": "",
           "title": {
            "standoff": 15
           },
           "zerolinecolor": "white",
           "automargin": true,
           "zerolinewidth": 2
          },
          "scene": {
           "xaxis": {
            "backgroundcolor": "#E5ECF6",
            "gridcolor": "white",
            "linecolor": "white",
            "showbackground": true,
            "ticks": "",
            "zerolinecolor": "white",
            "gridwidth": 2
           },
           "yaxis": {
            "backgroundcolor": "#E5ECF6",
            "gridcolor": "white",
            "linecolor": "white",
            "showbackground": true,
            "ticks": "",
            "zerolinecolor": "white",
            "gridwidth": 2
           },
           "zaxis": {
            "backgroundcolor": "#E5ECF6",
            "gridcolor": "white",
            "linecolor": "white",
            "showbackground": true,
            "ticks": "",
            "zerolinecolor": "white",
            "gridwidth": 2
           }
          },
          "shapedefaults": {
           "line": {
            "color": "#2a3f5f"
           }
          },
          "annotationdefaults": {
           "arrowcolor": "#2a3f5f",
           "arrowhead": 0,
           "arrowwidth": 1
          },
          "geo": {
           "bgcolor": "white",
           "landcolor": "#E5ECF6",
           "subunitcolor": "white",
           "showland": true,
           "showlakes": true,
           "lakecolor": "white"
          },
          "title": {
           "x": 0.05
          },
          "mapbox": {
           "style": "light"
          }
         }
        },
        "xaxis": {
         "anchor": "y",
         "domain": [
          0.0,
          1.0
         ],
         "title": {
          "text": "Note"
         }
        },
        "yaxis": {
         "anchor": "x",
         "domain": [
          0.0,
          1.0
         ],
         "title": {
          "text": "value"
         }
        },
        "legend": {
         "title": {
          "text": "variable"
         },
         "tracegroupgap": 0
        },
        "margin": {
         "t": 60
        },
        "barmode": "relative"
       },
       "config": {
        "plotlyServerURL": "https://plot.ly"
       }
      },
      "text/html": "<div>                            <div id=\"f27a8d21-a67e-47ff-af93-7780999ff2a9\" class=\"plotly-graph-div\" style=\"height:525px; width:100%;\"></div>            <script type=\"text/javascript\">                require([\"plotly\"], function(Plotly) {                    window.PLOTLYENV=window.PLOTLYENV || {};                                    if (document.getElementById(\"f27a8d21-a67e-47ff-af93-7780999ff2a9\")) {                    Plotly.newPlot(                        \"f27a8d21-a67e-47ff-af93-7780999ff2a9\",                        [{\"alignmentgroup\":\"True\",\"hovertemplate\":\"variable=Anzahl\\u003cbr\\u003eNote=%{x}\\u003cbr\\u003evalue=%{y}\\u003cextra\\u003e\\u003c\\u002fextra\\u003e\",\"legendgroup\":\"Anzahl\",\"marker\":{\"color\":\"#636efa\",\"pattern\":{\"shape\":\"\"}},\"name\":\"Anzahl\",\"offsetgroup\":\"Anzahl\",\"orientation\":\"v\",\"showlegend\":true,\"textposition\":\"auto\",\"x\":[\"1,0\",\"1,3\",\"1,7\",\"2,0\",\"2,3\",\"2,7\",\"3,0\",\"3,3\",\"3,7\",\"4,0\",\"5,0\"],\"xaxis\":\"x\",\"y\":[0,0,0,0,0,0,0,0,0,0,0],\"yaxis\":\"y\",\"type\":\"bar\"}],                        {\"template\":{\"data\":{\"histogram2dcontour\":[{\"type\":\"histogram2dcontour\",\"colorbar\":{\"outlinewidth\":0,\"ticks\":\"\"},\"colorscale\":[[0.0,\"#0d0887\"],[0.1111111111111111,\"#46039f\"],[0.2222222222222222,\"#7201a8\"],[0.3333333333333333,\"#9c179e\"],[0.4444444444444444,\"#bd3786\"],[0.5555555555555556,\"#d8576b\"],[0.6666666666666666,\"#ed7953\"],[0.7777777777777778,\"#fb9f3a\"],[0.8888888888888888,\"#fdca26\"],[1.0,\"#f0f921\"]]}],\"choropleth\":[{\"type\":\"choropleth\",\"colorbar\":{\"outlinewidth\":0,\"ticks\":\"\"}}],\"histogram2d\":[{\"type\":\"histogram2d\",\"colorbar\":{\"outlinewidth\":0,\"ticks\":\"\"},\"colorscale\":[[0.0,\"#0d0887\"],[0.1111111111111111,\"#46039f\"],[0.2222222222222222,\"#7201a8\"],[0.3333333333333333,\"#9c179e\"],[0.4444444444444444,\"#bd3786\"],[0.5555555555555556,\"#d8576b\"],[0.6666666666666666,\"#ed7953\"],[0.7777777777777778,\"#fb9f3a\"],[0.8888888888888888,\"#fdca26\"],[1.0,\"#f0f921\"]]}],\"heatmap\":[{\"type\":\"heatmap\",\"colorbar\":{\"outlinewidth\":0,\"ticks\":\"\"},\"colorscale\":[[0.0,\"#0d0887\"],[0.1111111111111111,\"#46039f\"],[0.2222222222222222,\"#7201a8\"],[0.3333333333333333,\"#9c179e\"],[0.4444444444444444,\"#bd3786\"],[0.5555555555555556,\"#d8576b\"],[0.6666666666666666,\"#ed7953\"],[0.7777777777777778,\"#fb9f3a\"],[0.8888888888888888,\"#fdca26\"],[1.0,\"#f0f921\"]]}],\"heatmapgl\":[{\"type\":\"heatmapgl\",\"colorbar\":{\"outlinewidth\":0,\"ticks\":\"\"},\"colorscale\":[[0.0,\"#0d0887\"],[0.1111111111111111,\"#46039f\"],[0.2222222222222222,\"#7201a8\"],[0.3333333333333333,\"#9c179e\"],[0.4444444444444444,\"#bd3786\"],[0.5555555555555556,\"#d8576b\"],[0.6666666666666666,\"#ed7953\"],[0.7777777777777778,\"#fb9f3a\"],[0.8888888888888888,\"#fdca26\"],[1.0,\"#f0f921\"]]}],\"contourcarpet\":[{\"type\":\"contourcarpet\",\"colorbar\":{\"outlinewidth\":0,\"ticks\":\"\"}}],\"contour\":[{\"type\":\"contour\",\"colorbar\":{\"outlinewidth\":0,\"ticks\":\"\"},\"colorscale\":[[0.0,\"#0d0887\"],[0.1111111111111111,\"#46039f\"],[0.2222222222222222,\"#7201a8\"],[0.3333333333333333,\"#9c179e\"],[0.4444444444444444,\"#bd3786\"],[0.5555555555555556,\"#d8576b\"],[0.6666666666666666,\"#ed7953\"],[0.7777777777777778,\"#fb9f3a\"],[0.8888888888888888,\"#fdca26\"],[1.0,\"#f0f921\"]]}],\"surface\":[{\"type\":\"surface\",\"colorbar\":{\"outlinewidth\":0,\"ticks\":\"\"},\"colorscale\":[[0.0,\"#0d0887\"],[0.1111111111111111,\"#46039f\"],[0.2222222222222222,\"#7201a8\"],[0.3333333333333333,\"#9c179e\"],[0.4444444444444444,\"#bd3786\"],[0.5555555555555556,\"#d8576b\"],[0.6666666666666666,\"#ed7953\"],[0.7777777777777778,\"#fb9f3a\"],[0.8888888888888888,\"#fdca26\"],[1.0,\"#f0f921\"]]}],\"mesh3d\":[{\"type\":\"mesh3d\",\"colorbar\":{\"outlinewidth\":0,\"ticks\":\"\"}}],\"scatter\":[{\"fillpattern\":{\"fillmode\":\"overlay\",\"size\":10,\"solidity\":0.2},\"type\":\"scatter\"}],\"parcoords\":[{\"type\":\"parcoords\",\"line\":{\"colorbar\":{\"outlinewidth\":0,\"ticks\":\"\"}}}],\"scatterpolargl\":[{\"type\":\"scatterpolargl\",\"marker\":{\"colorbar\":{\"outlinewidth\":0,\"ticks\":\"\"}}}],\"bar\":[{\"error_x\":{\"color\":\"#2a3f5f\"},\"error_y\":{\"color\":\"#2a3f5f\"},\"marker\":{\"line\":{\"color\":\"#E5ECF6\",\"width\":0.5},\"pattern\":{\"fillmode\":\"overlay\",\"size\":10,\"solidity\":0.2}},\"type\":\"bar\"}],\"scattergeo\":[{\"type\":\"scattergeo\",\"marker\":{\"colorbar\":{\"outlinewidth\":0,\"ticks\":\"\"}}}],\"scatterpolar\":[{\"type\":\"scatterpolar\",\"marker\":{\"colorbar\":{\"outlinewidth\":0,\"ticks\":\"\"}}}],\"histogram\":[{\"marker\":{\"pattern\":{\"fillmode\":\"overlay\",\"size\":10,\"solidity\":0.2}},\"type\":\"histogram\"}],\"scattergl\":[{\"type\":\"scattergl\",\"marker\":{\"colorbar\":{\"outlinewidth\":0,\"ticks\":\"\"}}}],\"scatter3d\":[{\"type\":\"scatter3d\",\"line\":{\"colorbar\":{\"outlinewidth\":0,\"ticks\":\"\"}},\"marker\":{\"colorbar\":{\"outlinewidth\":0,\"ticks\":\"\"}}}],\"scattermapbox\":[{\"type\":\"scattermapbox\",\"marker\":{\"colorbar\":{\"outlinewidth\":0,\"ticks\":\"\"}}}],\"scatterternary\":[{\"type\":\"scatterternary\",\"marker\":{\"colorbar\":{\"outlinewidth\":0,\"ticks\":\"\"}}}],\"scattercarpet\":[{\"type\":\"scattercarpet\",\"marker\":{\"colorbar\":{\"outlinewidth\":0,\"ticks\":\"\"}}}],\"carpet\":[{\"aaxis\":{\"endlinecolor\":\"#2a3f5f\",\"gridcolor\":\"white\",\"linecolor\":\"white\",\"minorgridcolor\":\"white\",\"startlinecolor\":\"#2a3f5f\"},\"baxis\":{\"endlinecolor\":\"#2a3f5f\",\"gridcolor\":\"white\",\"linecolor\":\"white\",\"minorgridcolor\":\"white\",\"startlinecolor\":\"#2a3f5f\"},\"type\":\"carpet\"}],\"table\":[{\"cells\":{\"fill\":{\"color\":\"#EBF0F8\"},\"line\":{\"color\":\"white\"}},\"header\":{\"fill\":{\"color\":\"#C8D4E3\"},\"line\":{\"color\":\"white\"}},\"type\":\"table\"}],\"barpolar\":[{\"marker\":{\"line\":{\"color\":\"#E5ECF6\",\"width\":0.5},\"pattern\":{\"fillmode\":\"overlay\",\"size\":10,\"solidity\":0.2}},\"type\":\"barpolar\"}],\"pie\":[{\"automargin\":true,\"type\":\"pie\"}]},\"layout\":{\"autotypenumbers\":\"strict\",\"colorway\":[\"#636efa\",\"#EF553B\",\"#00cc96\",\"#ab63fa\",\"#FFA15A\",\"#19d3f3\",\"#FF6692\",\"#B6E880\",\"#FF97FF\",\"#FECB52\"],\"font\":{\"color\":\"#2a3f5f\"},\"hovermode\":\"closest\",\"hoverlabel\":{\"align\":\"left\"},\"paper_bgcolor\":\"white\",\"plot_bgcolor\":\"#E5ECF6\",\"polar\":{\"bgcolor\":\"#E5ECF6\",\"angularaxis\":{\"gridcolor\":\"white\",\"linecolor\":\"white\",\"ticks\":\"\"},\"radialaxis\":{\"gridcolor\":\"white\",\"linecolor\":\"white\",\"ticks\":\"\"}},\"ternary\":{\"bgcolor\":\"#E5ECF6\",\"aaxis\":{\"gridcolor\":\"white\",\"linecolor\":\"white\",\"ticks\":\"\"},\"baxis\":{\"gridcolor\":\"white\",\"linecolor\":\"white\",\"ticks\":\"\"},\"caxis\":{\"gridcolor\":\"white\",\"linecolor\":\"white\",\"ticks\":\"\"}},\"coloraxis\":{\"colorbar\":{\"outlinewidth\":0,\"ticks\":\"\"}},\"colorscale\":{\"sequential\":[[0.0,\"#0d0887\"],[0.1111111111111111,\"#46039f\"],[0.2222222222222222,\"#7201a8\"],[0.3333333333333333,\"#9c179e\"],[0.4444444444444444,\"#bd3786\"],[0.5555555555555556,\"#d8576b\"],[0.6666666666666666,\"#ed7953\"],[0.7777777777777778,\"#fb9f3a\"],[0.8888888888888888,\"#fdca26\"],[1.0,\"#f0f921\"]],\"sequentialminus\":[[0.0,\"#0d0887\"],[0.1111111111111111,\"#46039f\"],[0.2222222222222222,\"#7201a8\"],[0.3333333333333333,\"#9c179e\"],[0.4444444444444444,\"#bd3786\"],[0.5555555555555556,\"#d8576b\"],[0.6666666666666666,\"#ed7953\"],[0.7777777777777778,\"#fb9f3a\"],[0.8888888888888888,\"#fdca26\"],[1.0,\"#f0f921\"]],\"diverging\":[[0,\"#8e0152\"],[0.1,\"#c51b7d\"],[0.2,\"#de77ae\"],[0.3,\"#f1b6da\"],[0.4,\"#fde0ef\"],[0.5,\"#f7f7f7\"],[0.6,\"#e6f5d0\"],[0.7,\"#b8e186\"],[0.8,\"#7fbc41\"],[0.9,\"#4d9221\"],[1,\"#276419\"]]},\"xaxis\":{\"gridcolor\":\"white\",\"linecolor\":\"white\",\"ticks\":\"\",\"title\":{\"standoff\":15},\"zerolinecolor\":\"white\",\"automargin\":true,\"zerolinewidth\":2},\"yaxis\":{\"gridcolor\":\"white\",\"linecolor\":\"white\",\"ticks\":\"\",\"title\":{\"standoff\":15},\"zerolinecolor\":\"white\",\"automargin\":true,\"zerolinewidth\":2},\"scene\":{\"xaxis\":{\"backgroundcolor\":\"#E5ECF6\",\"gridcolor\":\"white\",\"linecolor\":\"white\",\"showbackground\":true,\"ticks\":\"\",\"zerolinecolor\":\"white\",\"gridwidth\":2},\"yaxis\":{\"backgroundcolor\":\"#E5ECF6\",\"gridcolor\":\"white\",\"linecolor\":\"white\",\"showbackground\":true,\"ticks\":\"\",\"zerolinecolor\":\"white\",\"gridwidth\":2},\"zaxis\":{\"backgroundcolor\":\"#E5ECF6\",\"gridcolor\":\"white\",\"linecolor\":\"white\",\"showbackground\":true,\"ticks\":\"\",\"zerolinecolor\":\"white\",\"gridwidth\":2}},\"shapedefaults\":{\"line\":{\"color\":\"#2a3f5f\"}},\"annotationdefaults\":{\"arrowcolor\":\"#2a3f5f\",\"arrowhead\":0,\"arrowwidth\":1},\"geo\":{\"bgcolor\":\"white\",\"landcolor\":\"#E5ECF6\",\"subunitcolor\":\"white\",\"showland\":true,\"showlakes\":true,\"lakecolor\":\"white\"},\"title\":{\"x\":0.05},\"mapbox\":{\"style\":\"light\"}}},\"xaxis\":{\"anchor\":\"y\",\"domain\":[0.0,1.0],\"title\":{\"text\":\"Note\"}},\"yaxis\":{\"anchor\":\"x\",\"domain\":[0.0,1.0],\"title\":{\"text\":\"value\"}},\"legend\":{\"title\":{\"text\":\"variable\"},\"tracegroupgap\":0},\"margin\":{\"t\":60},\"barmode\":\"relative\"},                        {\"responsive\": true}                    ).then(function(){\n                            \nvar gd = document.getElementById('f27a8d21-a67e-47ff-af93-7780999ff2a9');\nvar x = new MutationObserver(function (mutations, observer) {{\n        var display = window.getComputedStyle(gd).display;\n        if (!display || display === 'none') {{\n            console.log([gd, 'removed!']);\n            Plotly.purge(gd);\n            observer.disconnect();\n        }}\n}});\n\n// Listen for the removal of the full notebook cells\nvar notebookContainer = gd.closest('#notebook-container');\nif (notebookContainer) {{\n    x.observe(notebookContainer, {childList: true});\n}}\n\n// Listen for the clearing of the current output cell\nvar outputEl = gd.closest('.output');\nif (outputEl) {{\n    x.observe(outputEl, {childList: true});\n}}\n\n                        })                };                });            </script>        </div>"
     },
     "metadata": {},
     "output_type": "display_data"
    }
   ],
   "source": [
    "pd.options.plotting.backend = \"plotly\"\n",
    "\n",
    "score_hist = pd.DataFrame({'Anzahl': [0] * len(grades)}, index=score_table['Note'])\n",
    "\n",
    "counts = pd.DataFrame(df['Note'].value_counts().rename('Anzahl'))\n",
    "score_hist.update(counts)\n",
    "\n",
    "print('Notenverteilung:')\n",
    "print(score_hist)\n",
    "\n",
    "number_students = len(df)\n",
    "number_participants = len(df[df['Summe'].notna()])\n",
    "print(f'Anzahl Anmeldungen: {number_students}')\n",
    "print(f'Anzahl Teilnehmer: {number_participants}')\n",
    "score_hist.plot(kind='bar')"
   ],
   "metadata": {
    "collapsed": false,
    "ExecuteTime": {
     "end_time": "2024-02-29T09:50:57.691034Z",
     "start_time": "2024-02-29T09:50:57.554829Z"
    }
   },
   "id": "d124b4c274d581c4",
   "execution_count": 24
  },
  {
   "cell_type": "markdown",
   "source": [
    "---\n",
    "Export\n",
    "---------------"
   ],
   "metadata": {
    "collapsed": false
   },
   "id": "1180a2404e3dce50"
  },
  {
   "cell_type": "code",
   "outputs": [],
   "source": [
    "st['Leistung'] = df['Note'].replace({np.nan: 'NT'})\n",
    "st_out = st.set_index('Examplan.id')\n",
    "\n",
    "export_table = pd.read_excel(table_name, header=None, index_col=0)\n",
    "export_table[[6]] = st_out[['Leistung']]\n",
    "\n",
    "export_table.to_excel(table_name + '_Noten.xlsx', sheet_name='First Sheet', header=False, index=True)"
   ],
   "metadata": {
    "collapsed": false,
    "ExecuteTime": {
     "end_time": "2024-02-29T09:52:00.305323Z",
     "start_time": "2024-02-29T09:52:00.286696Z"
    }
   },
   "id": "14ac456cb4013282",
   "execution_count": 26
  }
 ],
 "metadata": {
  "kernelspec": {
   "display_name": "Python 3 (ipykernel)",
   "language": "python",
   "name": "python3"
  },
  "language_info": {
   "codemirror_mode": {
    "name": "ipython",
    "version": 3
   },
   "file_extension": ".py",
   "mimetype": "text/x-python",
   "name": "python",
   "nbconvert_exporter": "python",
   "pygments_lexer": "ipython3",
   "version": "3.9.6"
  }
 },
 "nbformat": 4,
 "nbformat_minor": 5
}
